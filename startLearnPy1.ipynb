{
  "nbformat": 4,
  "nbformat_minor": 0,
  "metadata": {
    "colab": {
      "provenance": [],
      "toc_visible": true,
      "authorship_tag": "ABX9TyMCxu4XJwJWsbdxKnohhrzP",
      "include_colab_link": true
    },
    "kernelspec": {
      "name": "python3",
      "display_name": "Python 3"
    },
    "language_info": {
      "name": "python"
    }
  },
  "cells": [
    {
      "cell_type": "markdown",
      "metadata": {
        "id": "view-in-github",
        "colab_type": "text"
      },
      "source": [
        "<a href=\"https://colab.research.google.com/github/degembaeva/PyChallenge/blob/main/startLearnPy1.ipynb\" target=\"_parent\"><img src=\"https://colab.research.google.com/assets/colab-badge.svg\" alt=\"Open In Colab\"/></a>"
      ]
    },
    {
      "cell_type": "markdown",
      "source": [
        "# Числа"
      ],
      "metadata": {
        "id": "DdY9vFQCCoQd"
      }
    },
    {
      "cell_type": "markdown",
      "source": [
        "# 1.1 Целые числа\n"
      ],
      "metadata": {
        "id": "y0G3FQ6MC2Rv"
      }
    },
    {
      "cell_type": "markdown",
      "source": [
        "Создадим переменную"
      ],
      "metadata": {
        "id": "vowOnOjxDMqG"
      }
    },
    {
      "cell_type": "code",
      "source": [
        "a = 100"
      ],
      "metadata": {
        "id": "n9fUqy_IEfIh"
      },
      "execution_count": 42,
      "outputs": []
    },
    {
      "cell_type": "code",
      "source": [
        "a"
      ],
      "metadata": {
        "colab": {
          "base_uri": "https://localhost:8080/"
        },
        "id": "PQDDPBRdEilp",
        "outputId": "bfe029c2-9ad9-4caf-b9fa-2ce7be407a00"
      },
      "execution_count": 43,
      "outputs": [
        {
          "output_type": "execute_result",
          "data": {
            "text/plain": [
              "100"
            ]
          },
          "metadata": {},
          "execution_count": 43
        }
      ]
    },
    {
      "cell_type": "markdown",
      "source": [
        "Для удобства разделения разрядов можно использовать нижнее подчеркивание"
      ],
      "metadata": {
        "id": "PtwJhDlHE2Ch"
      }
    },
    {
      "cell_type": "code",
      "source": [
        "b = 100_000_000"
      ],
      "metadata": {
        "id": "WCgMVwJHFsdP"
      },
      "execution_count": 13,
      "outputs": []
    },
    {
      "cell_type": "code",
      "source": [
        "b"
      ],
      "metadata": {
        "colab": {
          "base_uri": "https://localhost:8080/"
        },
        "id": "-qSs4kBZF2Fd",
        "outputId": "e7c4cab7-3edb-42a4-e2e8-02dcba445284"
      },
      "execution_count": 14,
      "outputs": [
        {
          "output_type": "execute_result",
          "data": {
            "text/plain": [
              "100000000"
            ]
          },
          "metadata": {},
          "execution_count": 14
        }
      ]
    },
    {
      "cell_type": "markdown",
      "source": [
        "Проверим тип данных"
      ],
      "metadata": {
        "id": "KXRcL8tBGaSW"
      }
    },
    {
      "cell_type": "code",
      "source": [
        "type(b)"
      ],
      "metadata": {
        "colab": {
          "base_uri": "https://localhost:8080/"
        },
        "id": "yhJcofL7GhNR",
        "outputId": "b49c0a90-4b1b-4215-9613-771c779bf8a9"
      },
      "execution_count": 15,
      "outputs": [
        {
          "output_type": "execute_result",
          "data": {
            "text/plain": [
              "int"
            ]
          },
          "metadata": {},
          "execution_count": 15
        }
      ]
    },
    {
      "cell_type": "markdown",
      "source": [
        "Операции над целыми числами"
      ],
      "metadata": {
        "id": "RNa06TMKHAxO"
      }
    },
    {
      "cell_type": "code",
      "source": [
        "a + 9"
      ],
      "metadata": {
        "colab": {
          "base_uri": "https://localhost:8080/"
        },
        "id": "dVIHL363HGaq",
        "outputId": "f8b4334b-6890-45f0-a416-e8c9f2e5d412"
      },
      "execution_count": 31,
      "outputs": [
        {
          "output_type": "execute_result",
          "data": {
            "text/plain": [
              "9.25"
            ]
          },
          "metadata": {},
          "execution_count": 31
        }
      ]
    },
    {
      "cell_type": "code",
      "source": [
        "a - 1"
      ],
      "metadata": {
        "colab": {
          "base_uri": "https://localhost:8080/"
        },
        "id": "z-y-6Y4fHtHh",
        "outputId": "cde26835-3d5e-42cd-bed3-e5ea718568fe"
      },
      "execution_count": 18,
      "outputs": [
        {
          "output_type": "execute_result",
          "data": {
            "text/plain": [
              "0"
            ]
          },
          "metadata": {},
          "execution_count": 18
        }
      ]
    },
    {
      "cell_type": "code",
      "source": [
        "a * 5"
      ],
      "metadata": {
        "colab": {
          "base_uri": "https://localhost:8080/"
        },
        "id": "yfGX0xHTHwZU",
        "outputId": "5a77b47e-38cd-4cea-ffe7-909a0904301a"
      },
      "execution_count": 19,
      "outputs": [
        {
          "output_type": "execute_result",
          "data": {
            "text/plain": [
              "5"
            ]
          },
          "metadata": {},
          "execution_count": 19
        }
      ]
    },
    {
      "cell_type": "code",
      "source": [
        "a = a / 2"
      ],
      "metadata": {
        "id": "Jwhy7QM5H1RV"
      },
      "execution_count": 25,
      "outputs": []
    },
    {
      "cell_type": "code",
      "source": [
        "a"
      ],
      "metadata": {
        "colab": {
          "base_uri": "https://localhost:8080/"
        },
        "id": "Qt-KsDTjIac3",
        "outputId": "3ccaf858-2d0f-44b7-bd89-d0584a423a48"
      },
      "execution_count": 27,
      "outputs": [
        {
          "output_type": "execute_result",
          "data": {
            "text/plain": [
              "0.25"
            ]
          },
          "metadata": {},
          "execution_count": 27
        }
      ]
    },
    {
      "cell_type": "code",
      "source": [
        "type(a)"
      ],
      "metadata": {
        "colab": {
          "base_uri": "https://localhost:8080/"
        },
        "id": "AFbE2ZW_IK2O",
        "outputId": "7d5a4ff6-cd17-4fc4-a175-6029dc3076e6"
      },
      "execution_count": 28,
      "outputs": [
        {
          "output_type": "execute_result",
          "data": {
            "text/plain": [
              "float"
            ]
          },
          "metadata": {},
          "execution_count": 28
        }
      ]
    },
    {
      "cell_type": "code",
      "source": [
        "a ** 3"
      ],
      "metadata": {
        "colab": {
          "base_uri": "https://localhost:8080/"
        },
        "id": "7B7Ow9uDIjFu",
        "outputId": "7d0a86b4-8698-44db-aa7b-d32ffb3c8983"
      },
      "execution_count": 37,
      "outputs": [
        {
          "output_type": "execute_result",
          "data": {
            "text/plain": [
              "8"
            ]
          },
          "metadata": {},
          "execution_count": 37
        }
      ]
    },
    {
      "cell_type": "markdown",
      "source": [
        "Деление, целочисленное деление, остаток от деления - это разные вещи"
      ],
      "metadata": {
        "id": "Hq6flMcxH556"
      }
    },
    {
      "cell_type": "code",
      "source": [
        "a / 3, a // 3, a % 3"
      ],
      "metadata": {
        "colab": {
          "base_uri": "https://localhost:8080/"
        },
        "id": "eyDnJuz1JZz9",
        "outputId": "8ae55446-236b-4868-8f12-67f37758a3b6"
      },
      "execution_count": 44,
      "outputs": [
        {
          "output_type": "execute_result",
          "data": {
            "text/plain": [
              "(33.333333333333336, 33, 1)"
            ]
          },
          "metadata": {},
          "execution_count": 44
        }
      ]
    },
    {
      "cell_type": "code",
      "source": [
        "33*3+1"
      ],
      "metadata": {
        "colab": {
          "base_uri": "https://localhost:8080/"
        },
        "id": "KDrqtbU3Ky6v",
        "outputId": "d535610c-894a-4fe6-a50b-2c28b78e7dd1"
      },
      "execution_count": 45,
      "outputs": [
        {
          "output_type": "execute_result",
          "data": {
            "text/plain": [
              "100"
            ]
          },
          "metadata": {},
          "execution_count": 45
        }
      ]
    },
    {
      "cell_type": "markdown",
      "source": [
        "Порядок операций имеет значения"
      ],
      "metadata": {
        "id": "on5LZ1enKgNh"
      }
    }
  ]
}